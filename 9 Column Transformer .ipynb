{
 "cells": [
  {
   "cell_type": "code",
   "execution_count": 13,
   "id": "10a6056b",
   "metadata": {},
   "outputs": [
    {
     "data": {
      "text/html": [
       "<div>\n",
       "<style scoped>\n",
       "    .dataframe tbody tr th:only-of-type {\n",
       "        vertical-align: middle;\n",
       "    }\n",
       "\n",
       "    .dataframe tbody tr th {\n",
       "        vertical-align: top;\n",
       "    }\n",
       "\n",
       "    .dataframe thead th {\n",
       "        text-align: right;\n",
       "    }\n",
       "</style>\n",
       "<table border=\"1\" class=\"dataframe\">\n",
       "  <thead>\n",
       "    <tr style=\"text-align: right;\">\n",
       "      <th></th>\n",
       "      <th>age</th>\n",
       "      <th>gender</th>\n",
       "      <th>fever</th>\n",
       "      <th>cough</th>\n",
       "      <th>city</th>\n",
       "      <th>has_covid</th>\n",
       "    </tr>\n",
       "  </thead>\n",
       "  <tbody>\n",
       "    <tr>\n",
       "      <th>0</th>\n",
       "      <td>60</td>\n",
       "      <td>Male</td>\n",
       "      <td>103.0</td>\n",
       "      <td>Mild</td>\n",
       "      <td>Kolkata</td>\n",
       "      <td>No</td>\n",
       "    </tr>\n",
       "    <tr>\n",
       "      <th>1</th>\n",
       "      <td>27</td>\n",
       "      <td>Male</td>\n",
       "      <td>100.0</td>\n",
       "      <td>Mild</td>\n",
       "      <td>Delhi</td>\n",
       "      <td>Yes</td>\n",
       "    </tr>\n",
       "    <tr>\n",
       "      <th>2</th>\n",
       "      <td>42</td>\n",
       "      <td>Male</td>\n",
       "      <td>101.0</td>\n",
       "      <td>Mild</td>\n",
       "      <td>Delhi</td>\n",
       "      <td>No</td>\n",
       "    </tr>\n",
       "    <tr>\n",
       "      <th>3</th>\n",
       "      <td>31</td>\n",
       "      <td>Female</td>\n",
       "      <td>98.0</td>\n",
       "      <td>Mild</td>\n",
       "      <td>Kolkata</td>\n",
       "      <td>No</td>\n",
       "    </tr>\n",
       "    <tr>\n",
       "      <th>4</th>\n",
       "      <td>65</td>\n",
       "      <td>Female</td>\n",
       "      <td>101.0</td>\n",
       "      <td>Mild</td>\n",
       "      <td>Mumbai</td>\n",
       "      <td>No</td>\n",
       "    </tr>\n",
       "  </tbody>\n",
       "</table>\n",
       "</div>"
      ],
      "text/plain": [
       "   age  gender  fever cough     city has_covid\n",
       "0   60    Male  103.0  Mild  Kolkata        No\n",
       "1   27    Male  100.0  Mild    Delhi       Yes\n",
       "2   42    Male  101.0  Mild    Delhi        No\n",
       "3   31  Female   98.0  Mild  Kolkata        No\n",
       "4   65  Female  101.0  Mild   Mumbai        No"
      ]
     },
     "execution_count": 13,
     "metadata": {},
     "output_type": "execute_result"
    }
   ],
   "source": [
    "import numpy as np\n",
    "import pandas as pd\n",
    "\n",
    "df = pd.read_csv('9 covid_toy.csv')\n",
    "df.head()"
   ]
  },
  {
   "cell_type": "code",
   "execution_count": 19,
   "id": "ca803809",
   "metadata": {},
   "outputs": [
    {
     "data": {
      "text/plain": [
       "city\n",
       "Kolkata      32\n",
       "Bangalore    30\n",
       "Delhi        22\n",
       "Mumbai       16\n",
       "Name: count, dtype: int64"
      ]
     },
     "execution_count": 19,
     "metadata": {},
     "output_type": "execute_result"
    }
   ],
   "source": [
    "df['city'].value_counts()"
   ]
  },
  {
   "cell_type": "code",
   "execution_count": null,
   "id": "443ef7a5",
   "metadata": {},
   "outputs": [],
   "source": []
  },
  {
   "cell_type": "markdown",
   "id": "c053b737",
   "metadata": {},
   "source": [
    "# Train Test Split"
   ]
  },
  {
   "cell_type": "code",
   "execution_count": 20,
   "id": "4ea4bda7",
   "metadata": {},
   "outputs": [],
   "source": [
    "from sklearn.model_selection import train_test_split\n",
    "X = df.drop(columns=['has_covid'])\n",
    "y = df['has_covid']\n",
    "\n",
    "X_train,X_test,y_train,y_test = train_test_split(X,y,\n",
    "                                                test_size=0.2)"
   ]
  },
  {
   "cell_type": "code",
   "execution_count": 22,
   "id": "c1c314dd",
   "metadata": {},
   "outputs": [
    {
     "data": {
      "text/plain": [
       "((80, 5), (80,), (20,), (20, 5))"
      ]
     },
     "execution_count": 22,
     "metadata": {},
     "output_type": "execute_result"
    }
   ],
   "source": [
    "X_train.shape,y_train.shape,y_test.shape,X_test.shape"
   ]
  },
  {
   "cell_type": "markdown",
   "id": "d1bef827",
   "metadata": {},
   "source": [
    "# 1 Without Column Transformer"
   ]
  },
  {
   "cell_type": "code",
   "execution_count": 30,
   "id": "01f180d9",
   "metadata": {},
   "outputs": [
    {
     "data": {
      "text/plain": [
       "(80, 1)"
      ]
     },
     "execution_count": 30,
     "metadata": {},
     "output_type": "execute_result"
    }
   ],
   "source": [
    "# missing values fill \n",
    "from sklearn.impute import SimpleImputer\n",
    "si = SimpleImputer()\n",
    "\n",
    "X_train_fever = si.fit_transform(X_train[['fever']])\n",
    "X_test_fever = si.fit_transform(X_test[['fever']])\n",
    "X_train_fever.shape"
   ]
  },
  {
   "cell_type": "code",
   "execution_count": 33,
   "id": "fa2aaa4b",
   "metadata": {},
   "outputs": [
    {
     "data": {
      "text/plain": [
       "(80, 1)"
      ]
     },
     "execution_count": 33,
     "metadata": {},
     "output_type": "execute_result"
    }
   ],
   "source": [
    "# encoding categorical values\n",
    "from sklearn.preprocessing import OrdinalEncoder\n",
    "Ordinal = OrdinalEncoder(categories=[['Mild','Strong']])\n",
    "X_train_cough = Ordinal.fit_transform(X_train[['cough']])\n",
    "X_test_cough = Ordinal.fit_transform(X_test[['cough']])\n",
    "X_train_cough.shape"
   ]
  },
  {
   "cell_type": "code",
   "execution_count": 35,
   "id": "f48d59c5",
   "metadata": {},
   "outputs": [
    {
     "name": "stderr",
     "output_type": "stream",
     "text": [
      "C:\\Users\\naimat\\anaconda3\\lib\\site-packages\\sklearn\\preprocessing\\_encoders.py:868: FutureWarning: `sparse` was renamed to `sparse_output` in version 1.2 and will be removed in 1.4. `sparse_output` is ignored unless you leave `sparse` to its default value.\n",
      "  warnings.warn(\n",
      "C:\\Users\\naimat\\anaconda3\\lib\\site-packages\\sklearn\\preprocessing\\_encoders.py:868: FutureWarning: `sparse` was renamed to `sparse_output` in version 1.2 and will be removed in 1.4. `sparse_output` is ignored unless you leave `sparse` to its default value.\n",
      "  warnings.warn(\n"
     ]
    },
    {
     "data": {
      "text/plain": [
       "(80, 4)"
      ]
     },
     "execution_count": 35,
     "metadata": {},
     "output_type": "execute_result"
    }
   ],
   "source": [
    "# gender and city \n",
    "from sklearn.preprocessing import OneHotEncoder\n",
    "ohe = OneHotEncoder(drop='first',sparse=False)\n",
    "X_train_gender_city = ohe.fit_transform(X_train[['gender','city']])\n",
    "\n",
    "X_test_gender_city = ohe.fit_transform(X_test[['gender','city']])\n",
    "\n",
    "X_train_gender_city.shape"
   ]
  },
  {
   "cell_type": "code",
   "execution_count": 36,
   "id": "c027f3e3",
   "metadata": {},
   "outputs": [
    {
     "data": {
      "text/plain": [
       "(80, 1)"
      ]
     },
     "execution_count": 36,
     "metadata": {},
     "output_type": "execute_result"
    }
   ],
   "source": [
    "# Extracting Age\n",
    "X_train_age = X_train.drop(columns=['gender','fever','cough','city']).values\n",
    "\n",
    "# also the test data\n",
    "X_test_age = X_test.drop(columns=['gender','fever','cough','city']).values\n",
    "\n",
    "X_train_age.shape"
   ]
  },
  {
   "cell_type": "code",
   "execution_count": 38,
   "id": "e5126e56",
   "metadata": {},
   "outputs": [
    {
     "data": {
      "text/plain": [
       "(80, 7)"
      ]
     },
     "execution_count": 38,
     "metadata": {},
     "output_type": "execute_result"
    }
   ],
   "source": [
    "X_train_transformed = np.concatenate((X_train_age,X_train_fever,X_train_gender_city,X_train_cough),axis=1)\n",
    "X_test_transformed = np.concatenate((X_test_age,X_test_fever,X_test_gender_city,X_test_cough),axis=1)\n",
    "\n",
    "X_train_transformed.shape"
   ]
  },
  {
   "cell_type": "markdown",
   "id": "da41cf79",
   "metadata": {},
   "source": [
    "# 2 With Column Transformer"
   ]
  },
  {
   "cell_type": "code",
   "execution_count": 41,
   "id": "038a9d22",
   "metadata": {},
   "outputs": [],
   "source": [
    "from sklearn.compose import ColumnTransformer"
   ]
  },
  {
   "cell_type": "code",
   "execution_count": 43,
   "id": "58485a35",
   "metadata": {},
   "outputs": [],
   "source": [
    "tf = ColumnTransformer(\n",
    "transformers=[\n",
    "    (\"tf1\",SimpleImputer(),['fever']),\n",
    "    (\"tf2\",OrdinalEncoder(categories=[['Mild','Strong']]), ['cough']),\n",
    "    (\"tf3\",OneHotEncoder(drop='first',sparse=False), ['gender','city']),\n",
    "],\n",
    "remainder=\"passthrough\"\n",
    ")"
   ]
  },
  {
   "cell_type": "code",
   "execution_count": 44,
   "id": "0cd91fce",
   "metadata": {},
   "outputs": [
    {
     "data": {
      "text/html": [
       "<style>#sk-container-id-1 {color: black;background-color: white;}#sk-container-id-1 pre{padding: 0;}#sk-container-id-1 div.sk-toggleable {background-color: white;}#sk-container-id-1 label.sk-toggleable__label {cursor: pointer;display: block;width: 100%;margin-bottom: 0;padding: 0.3em;box-sizing: border-box;text-align: center;}#sk-container-id-1 label.sk-toggleable__label-arrow:before {content: \"▸\";float: left;margin-right: 0.25em;color: #696969;}#sk-container-id-1 label.sk-toggleable__label-arrow:hover:before {color: black;}#sk-container-id-1 div.sk-estimator:hover label.sk-toggleable__label-arrow:before {color: black;}#sk-container-id-1 div.sk-toggleable__content {max-height: 0;max-width: 0;overflow: hidden;text-align: left;background-color: #f0f8ff;}#sk-container-id-1 div.sk-toggleable__content pre {margin: 0.2em;color: black;border-radius: 0.25em;background-color: #f0f8ff;}#sk-container-id-1 input.sk-toggleable__control:checked~div.sk-toggleable__content {max-height: 200px;max-width: 100%;overflow: auto;}#sk-container-id-1 input.sk-toggleable__control:checked~label.sk-toggleable__label-arrow:before {content: \"▾\";}#sk-container-id-1 div.sk-estimator input.sk-toggleable__control:checked~label.sk-toggleable__label {background-color: #d4ebff;}#sk-container-id-1 div.sk-label input.sk-toggleable__control:checked~label.sk-toggleable__label {background-color: #d4ebff;}#sk-container-id-1 input.sk-hidden--visually {border: 0;clip: rect(1px 1px 1px 1px);clip: rect(1px, 1px, 1px, 1px);height: 1px;margin: -1px;overflow: hidden;padding: 0;position: absolute;width: 1px;}#sk-container-id-1 div.sk-estimator {font-family: monospace;background-color: #f0f8ff;border: 1px dotted black;border-radius: 0.25em;box-sizing: border-box;margin-bottom: 0.5em;}#sk-container-id-1 div.sk-estimator:hover {background-color: #d4ebff;}#sk-container-id-1 div.sk-parallel-item::after {content: \"\";width: 100%;border-bottom: 1px solid gray;flex-grow: 1;}#sk-container-id-1 div.sk-label:hover label.sk-toggleable__label {background-color: #d4ebff;}#sk-container-id-1 div.sk-serial::before {content: \"\";position: absolute;border-left: 1px solid gray;box-sizing: border-box;top: 0;bottom: 0;left: 50%;z-index: 0;}#sk-container-id-1 div.sk-serial {display: flex;flex-direction: column;align-items: center;background-color: white;padding-right: 0.2em;padding-left: 0.2em;position: relative;}#sk-container-id-1 div.sk-item {position: relative;z-index: 1;}#sk-container-id-1 div.sk-parallel {display: flex;align-items: stretch;justify-content: center;background-color: white;position: relative;}#sk-container-id-1 div.sk-item::before, #sk-container-id-1 div.sk-parallel-item::before {content: \"\";position: absolute;border-left: 1px solid gray;box-sizing: border-box;top: 0;bottom: 0;left: 50%;z-index: -1;}#sk-container-id-1 div.sk-parallel-item {display: flex;flex-direction: column;z-index: 1;position: relative;background-color: white;}#sk-container-id-1 div.sk-parallel-item:first-child::after {align-self: flex-end;width: 50%;}#sk-container-id-1 div.sk-parallel-item:last-child::after {align-self: flex-start;width: 50%;}#sk-container-id-1 div.sk-parallel-item:only-child::after {width: 0;}#sk-container-id-1 div.sk-dashed-wrapped {border: 1px dashed gray;margin: 0 0.4em 0.5em 0.4em;box-sizing: border-box;padding-bottom: 0.4em;background-color: white;}#sk-container-id-1 div.sk-label label {font-family: monospace;font-weight: bold;display: inline-block;line-height: 1.2em;}#sk-container-id-1 div.sk-label-container {text-align: center;}#sk-container-id-1 div.sk-container {/* jupyter's `normalize.less` sets `[hidden] { display: none; }` but bootstrap.min.css set `[hidden] { display: none !important; }` so we also need the `!important` here to be able to override the default hidden behavior on the sphinx rendered scikit-learn.org. See: https://github.com/scikit-learn/scikit-learn/issues/21755 */display: inline-block !important;position: relative;}#sk-container-id-1 div.sk-text-repr-fallback {display: none;}</style><div id=\"sk-container-id-1\" class=\"sk-top-container\"><div class=\"sk-text-repr-fallback\"><pre>ColumnTransformer(remainder=&#x27;passthrough&#x27;,\n",
       "                  transformers=[(&#x27;tf1&#x27;, SimpleImputer(), [&#x27;fever&#x27;]),\n",
       "                                (&#x27;tf2&#x27;,\n",
       "                                 OrdinalEncoder(categories=[[&#x27;Mild&#x27;,\n",
       "                                                             &#x27;Strong&#x27;]]),\n",
       "                                 [&#x27;cough&#x27;]),\n",
       "                                (&#x27;tf3&#x27;,\n",
       "                                 OneHotEncoder(drop=&#x27;first&#x27;, sparse=False),\n",
       "                                 [&#x27;gender&#x27;, &#x27;city&#x27;])])</pre><b>In a Jupyter environment, please rerun this cell to show the HTML representation or trust the notebook. <br />On GitHub, the HTML representation is unable to render, please try loading this page with nbviewer.org.</b></div><div class=\"sk-container\" hidden><div class=\"sk-item sk-dashed-wrapped\"><div class=\"sk-label-container\"><div class=\"sk-label sk-toggleable\"><input class=\"sk-toggleable__control sk-hidden--visually\" id=\"sk-estimator-id-1\" type=\"checkbox\" ><label for=\"sk-estimator-id-1\" class=\"sk-toggleable__label sk-toggleable__label-arrow\">ColumnTransformer</label><div class=\"sk-toggleable__content\"><pre>ColumnTransformer(remainder=&#x27;passthrough&#x27;,\n",
       "                  transformers=[(&#x27;tf1&#x27;, SimpleImputer(), [&#x27;fever&#x27;]),\n",
       "                                (&#x27;tf2&#x27;,\n",
       "                                 OrdinalEncoder(categories=[[&#x27;Mild&#x27;,\n",
       "                                                             &#x27;Strong&#x27;]]),\n",
       "                                 [&#x27;cough&#x27;]),\n",
       "                                (&#x27;tf3&#x27;,\n",
       "                                 OneHotEncoder(drop=&#x27;first&#x27;, sparse=False),\n",
       "                                 [&#x27;gender&#x27;, &#x27;city&#x27;])])</pre></div></div></div><div class=\"sk-parallel\"><div class=\"sk-parallel-item\"><div class=\"sk-item\"><div class=\"sk-label-container\"><div class=\"sk-label sk-toggleable\"><input class=\"sk-toggleable__control sk-hidden--visually\" id=\"sk-estimator-id-2\" type=\"checkbox\" ><label for=\"sk-estimator-id-2\" class=\"sk-toggleable__label sk-toggleable__label-arrow\">tf1</label><div class=\"sk-toggleable__content\"><pre>[&#x27;fever&#x27;]</pre></div></div></div><div class=\"sk-serial\"><div class=\"sk-item\"><div class=\"sk-estimator sk-toggleable\"><input class=\"sk-toggleable__control sk-hidden--visually\" id=\"sk-estimator-id-3\" type=\"checkbox\" ><label for=\"sk-estimator-id-3\" class=\"sk-toggleable__label sk-toggleable__label-arrow\">SimpleImputer</label><div class=\"sk-toggleable__content\"><pre>SimpleImputer()</pre></div></div></div></div></div></div><div class=\"sk-parallel-item\"><div class=\"sk-item\"><div class=\"sk-label-container\"><div class=\"sk-label sk-toggleable\"><input class=\"sk-toggleable__control sk-hidden--visually\" id=\"sk-estimator-id-4\" type=\"checkbox\" ><label for=\"sk-estimator-id-4\" class=\"sk-toggleable__label sk-toggleable__label-arrow\">tf2</label><div class=\"sk-toggleable__content\"><pre>[&#x27;cough&#x27;]</pre></div></div></div><div class=\"sk-serial\"><div class=\"sk-item\"><div class=\"sk-estimator sk-toggleable\"><input class=\"sk-toggleable__control sk-hidden--visually\" id=\"sk-estimator-id-5\" type=\"checkbox\" ><label for=\"sk-estimator-id-5\" class=\"sk-toggleable__label sk-toggleable__label-arrow\">OrdinalEncoder</label><div class=\"sk-toggleable__content\"><pre>OrdinalEncoder(categories=[[&#x27;Mild&#x27;, &#x27;Strong&#x27;]])</pre></div></div></div></div></div></div><div class=\"sk-parallel-item\"><div class=\"sk-item\"><div class=\"sk-label-container\"><div class=\"sk-label sk-toggleable\"><input class=\"sk-toggleable__control sk-hidden--visually\" id=\"sk-estimator-id-6\" type=\"checkbox\" ><label for=\"sk-estimator-id-6\" class=\"sk-toggleable__label sk-toggleable__label-arrow\">tf3</label><div class=\"sk-toggleable__content\"><pre>[&#x27;gender&#x27;, &#x27;city&#x27;]</pre></div></div></div><div class=\"sk-serial\"><div class=\"sk-item\"><div class=\"sk-estimator sk-toggleable\"><input class=\"sk-toggleable__control sk-hidden--visually\" id=\"sk-estimator-id-7\" type=\"checkbox\" ><label for=\"sk-estimator-id-7\" class=\"sk-toggleable__label sk-toggleable__label-arrow\">OneHotEncoder</label><div class=\"sk-toggleable__content\"><pre>OneHotEncoder(drop=&#x27;first&#x27;, sparse=False)</pre></div></div></div></div></div></div><div class=\"sk-parallel-item\"><div class=\"sk-item\"><div class=\"sk-label-container\"><div class=\"sk-label sk-toggleable\"><input class=\"sk-toggleable__control sk-hidden--visually\" id=\"sk-estimator-id-8\" type=\"checkbox\" ><label for=\"sk-estimator-id-8\" class=\"sk-toggleable__label sk-toggleable__label-arrow\">remainder</label><div class=\"sk-toggleable__content\"><pre></pre></div></div></div><div class=\"sk-serial\"><div class=\"sk-item\"><div class=\"sk-estimator sk-toggleable\"><input class=\"sk-toggleable__control sk-hidden--visually\" id=\"sk-estimator-id-9\" type=\"checkbox\" ><label for=\"sk-estimator-id-9\" class=\"sk-toggleable__label sk-toggleable__label-arrow\">passthrough</label><div class=\"sk-toggleable__content\"><pre>passthrough</pre></div></div></div></div></div></div></div></div></div></div>"
      ],
      "text/plain": [
       "ColumnTransformer(remainder='passthrough',\n",
       "                  transformers=[('tf1', SimpleImputer(), ['fever']),\n",
       "                                ('tf2',\n",
       "                                 OrdinalEncoder(categories=[['Mild',\n",
       "                                                             'Strong']]),\n",
       "                                 ['cough']),\n",
       "                                ('tf3',\n",
       "                                 OneHotEncoder(drop='first', sparse=False),\n",
       "                                 ['gender', 'city'])])"
      ]
     },
     "execution_count": 44,
     "metadata": {},
     "output_type": "execute_result"
    }
   ],
   "source": [
    "tf"
   ]
  },
  {
   "cell_type": "code",
   "execution_count": 45,
   "id": "42e55f9d",
   "metadata": {},
   "outputs": [
    {
     "name": "stderr",
     "output_type": "stream",
     "text": [
      "C:\\Users\\naimat\\anaconda3\\lib\\site-packages\\sklearn\\preprocessing\\_encoders.py:868: FutureWarning: `sparse` was renamed to `sparse_output` in version 1.2 and will be removed in 1.4. `sparse_output` is ignored unless you leave `sparse` to its default value.\n",
      "  warnings.warn(\n",
      "C:\\Users\\naimat\\anaconda3\\lib\\site-packages\\sklearn\\preprocessing\\_encoders.py:868: FutureWarning: `sparse` was renamed to `sparse_output` in version 1.2 and will be removed in 1.4. `sparse_output` is ignored unless you leave `sparse` to its default value.\n",
      "  warnings.warn(\n"
     ]
    }
   ],
   "source": [
    "X_train_tf = tf.fit_transform(X_train)\n",
    "X_test_tf = tf.fit_transform(X_test)"
   ]
  },
  {
   "cell_type": "code",
   "execution_count": 46,
   "id": "a3197910",
   "metadata": {},
   "outputs": [
    {
     "data": {
      "text/plain": [
       "array([[104.   ,   0.   ,   1.   ,   0.   ,   0.   ,   0.   ,  25.   ],\n",
       "       [101.   ,   0.   ,   0.   ,   0.   ,   0.   ,   1.   ,  81.   ],\n",
       "       [ 98.   ,   0.   ,   0.   ,   0.   ,   0.   ,   1.   ,  65.   ],\n",
       "       [103.   ,   0.   ,   0.   ,   0.   ,   0.   ,   0.   ,  16.   ],\n",
       "       [102.   ,   1.   ,   0.   ,   0.   ,   1.   ,   0.   ,  82.   ],\n",
       "       [ 99.   ,   0.   ,   0.   ,   0.   ,   0.   ,   1.   ,  60.   ],\n",
       "       [100.   ,   0.   ,   1.   ,   1.   ,   0.   ,   0.   ,  27.   ],\n",
       "       [102.   ,   0.   ,   0.   ,   1.   ,   0.   ,   0.   ,  49.   ],\n",
       "       [104.   ,   0.   ,   1.   ,   0.   ,   0.   ,   1.   ,  42.   ],\n",
       "       [100.875,   1.   ,   0.   ,   0.   ,   0.   ,   1.   ,  20.   ],\n",
       "       [101.   ,   0.   ,   0.   ,   1.   ,   0.   ,   0.   ,  49.   ],\n",
       "       [100.875,   0.   ,   0.   ,   1.   ,   0.   ,   0.   ,  75.   ],\n",
       "       [100.   ,   0.   ,   1.   ,   0.   ,   0.   ,   0.   ,  11.   ],\n",
       "       [102.   ,   0.   ,   0.   ,   0.   ,   0.   ,   0.   ,  69.   ],\n",
       "       [101.   ,   0.   ,   0.   ,   1.   ,   0.   ,   0.   ,  64.   ],\n",
       "       [ 98.   ,   0.   ,   1.   ,   0.   ,   1.   ,   0.   ,  24.   ],\n",
       "       [102.   ,   0.   ,   1.   ,   0.   ,   0.   ,   1.   ,  74.   ],\n",
       "       [101.   ,   0.   ,   1.   ,   1.   ,   0.   ,   0.   ,  15.   ],\n",
       "       [103.   ,   0.   ,   0.   ,   0.   ,   1.   ,   0.   ,  69.   ],\n",
       "       [100.875,   1.   ,   0.   ,   0.   ,   0.   ,   0.   ,  42.   ],\n",
       "       [101.   ,   0.   ,   1.   ,   1.   ,   0.   ,   0.   ,  42.   ],\n",
       "       [ 98.   ,   0.   ,   1.   ,   1.   ,   0.   ,   0.   ,  83.   ],\n",
       "       [100.   ,   0.   ,   1.   ,   1.   ,   0.   ,   0.   ,  27.   ],\n",
       "       [104.   ,   0.   ,   0.   ,   0.   ,   0.   ,   0.   ,  18.   ],\n",
       "       [102.   ,   0.   ,   1.   ,   0.   ,   0.   ,   0.   ,  64.   ],\n",
       "       [102.   ,   0.   ,   1.   ,   0.   ,   1.   ,   0.   ,   5.   ],\n",
       "       [104.   ,   0.   ,   1.   ,   0.   ,   0.   ,   1.   ,  44.   ],\n",
       "       [103.   ,   0.   ,   1.   ,   0.   ,   1.   ,   0.   ,  60.   ],\n",
       "       [100.   ,   1.   ,   0.   ,   0.   ,   0.   ,   0.   ,  19.   ],\n",
       "       [104.   ,   0.   ,   1.   ,   0.   ,   0.   ,   0.   ,  51.   ],\n",
       "       [104.   ,   0.   ,   1.   ,   0.   ,   1.   ,   0.   ,  16.   ],\n",
       "       [ 99.   ,   0.   ,   1.   ,   0.   ,   0.   ,   0.   ,  72.   ],\n",
       "       [101.   ,   0.   ,   0.   ,   0.   ,   1.   ,   0.   ,  83.   ],\n",
       "       [100.875,   1.   ,   0.   ,   0.   ,   0.   ,   1.   ,  34.   ],\n",
       "       [ 98.   ,   1.   ,   0.   ,   0.   ,   1.   ,   0.   ,  71.   ],\n",
       "       [104.   ,   0.   ,   0.   ,   0.   ,   1.   ,   0.   ,   6.   ],\n",
       "       [102.   ,   1.   ,   1.   ,   1.   ,   0.   ,   0.   ,  20.   ],\n",
       "       [101.   ,   0.   ,   0.   ,   0.   ,   0.   ,   0.   ,  20.   ],\n",
       "       [101.   ,   1.   ,   0.   ,   0.   ,   1.   ,   0.   ,  51.   ],\n",
       "       [103.   ,   0.   ,   0.   ,   0.   ,   1.   ,   0.   ,  48.   ],\n",
       "       [100.875,   1.   ,   1.   ,   0.   ,   1.   ,   0.   ,  79.   ],\n",
       "       [ 99.   ,   0.   ,   1.   ,   0.   ,   0.   ,   0.   ,  65.   ],\n",
       "       [ 99.   ,   1.   ,   0.   ,   0.   ,   0.   ,   0.   ,  49.   ],\n",
       "       [102.   ,   1.   ,   0.   ,   0.   ,   0.   ,   0.   ,  82.   ],\n",
       "       [ 99.   ,   1.   ,   1.   ,   0.   ,   0.   ,   0.   ,  66.   ],\n",
       "       [ 99.   ,   1.   ,   0.   ,   0.   ,   1.   ,   0.   ,  25.   ],\n",
       "       [101.   ,   0.   ,   0.   ,   0.   ,   0.   ,   0.   ,  38.   ],\n",
       "       [101.   ,   1.   ,   0.   ,   1.   ,   0.   ,   0.   ,  68.   ],\n",
       "       [ 99.   ,   0.   ,   0.   ,   0.   ,   0.   ,   0.   ,  22.   ],\n",
       "       [100.   ,   0.   ,   1.   ,   0.   ,   0.   ,   0.   ,  10.   ],\n",
       "       [100.   ,   1.   ,   0.   ,   0.   ,   1.   ,   0.   ,  11.   ],\n",
       "       [100.   ,   1.   ,   0.   ,   0.   ,   0.   ,   0.   ,  47.   ],\n",
       "       [104.   ,   1.   ,   0.   ,   0.   ,   1.   ,   0.   ,  54.   ],\n",
       "       [103.   ,   0.   ,   1.   ,   0.   ,   1.   ,   0.   ,  83.   ],\n",
       "       [100.875,   1.   ,   1.   ,   0.   ,   1.   ,   0.   ,  71.   ],\n",
       "       [ 98.   ,   1.   ,   0.   ,   0.   ,   0.   ,   1.   ,  69.   ],\n",
       "       [ 98.   ,   1.   ,   0.   ,   0.   ,   0.   ,   1.   ,   5.   ],\n",
       "       [ 99.   ,   0.   ,   1.   ,   1.   ,   0.   ,   0.   ,  65.   ],\n",
       "       [ 98.   ,   0.   ,   0.   ,   1.   ,   0.   ,   0.   ,  80.   ],\n",
       "       [100.   ,   0.   ,   1.   ,   0.   ,   0.   ,   0.   ,  80.   ],\n",
       "       [100.875,   0.   ,   0.   ,   0.   ,   0.   ,   0.   ,  84.   ],\n",
       "       [ 99.   ,   0.   ,   0.   ,   0.   ,   0.   ,   1.   ,  14.   ],\n",
       "       [102.   ,   1.   ,   0.   ,   1.   ,   0.   ,   0.   ,  33.   ],\n",
       "       [103.   ,   0.   ,   0.   ,   0.   ,   1.   ,   0.   ,  50.   ],\n",
       "       [ 98.   ,   1.   ,   1.   ,   0.   ,   0.   ,   0.   ,  12.   ],\n",
       "       [104.   ,   1.   ,   0.   ,   1.   ,   0.   ,   0.   ,  75.   ],\n",
       "       [101.   ,   0.   ,   0.   ,   0.   ,   0.   ,   1.   ,  65.   ],\n",
       "       [100.   ,   0.   ,   0.   ,   0.   ,   1.   ,   0.   ,   5.   ],\n",
       "       [ 98.   ,   1.   ,   0.   ,   1.   ,   0.   ,   0.   ,  40.   ],\n",
       "       [ 98.   ,   1.   ,   0.   ,   0.   ,   0.   ,   1.   ,  81.   ],\n",
       "       [100.875,   0.   ,   1.   ,   0.   ,   0.   ,   1.   ,  23.   ],\n",
       "       [104.   ,   0.   ,   1.   ,   0.   ,   1.   ,   0.   ,  51.   ],\n",
       "       [ 98.   ,   0.   ,   0.   ,   0.   ,   0.   ,   0.   ,  64.   ],\n",
       "       [104.   ,   0.   ,   0.   ,   0.   ,   0.   ,   0.   ,  12.   ],\n",
       "       [103.   ,   1.   ,   1.   ,   0.   ,   1.   ,   0.   ,  70.   ],\n",
       "       [100.   ,   1.   ,   0.   ,   0.   ,   1.   ,   0.   ,  13.   ],\n",
       "       [ 98.   ,   0.   ,   0.   ,   0.   ,   1.   ,   0.   ,  31.   ],\n",
       "       [100.   ,   0.   ,   1.   ,   0.   ,   1.   ,   0.   ,  27.   ],\n",
       "       [101.   ,   0.   ,   1.   ,   1.   ,   0.   ,   0.   ,  19.   ],\n",
       "       [101.   ,   1.   ,   0.   ,   1.   ,   0.   ,   0.   ,  34.   ]])"
      ]
     },
     "execution_count": 46,
     "metadata": {},
     "output_type": "execute_result"
    }
   ],
   "source": [
    "X_train_tf"
   ]
  },
  {
   "cell_type": "code",
   "execution_count": null,
   "id": "739644e4",
   "metadata": {},
   "outputs": [],
   "source": []
  }
 ],
 "metadata": {
  "kernelspec": {
   "display_name": "Python 3 (ipykernel)",
   "language": "python",
   "name": "python3"
  },
  "language_info": {
   "codemirror_mode": {
    "name": "ipython",
    "version": 3
   },
   "file_extension": ".py",
   "mimetype": "text/x-python",
   "name": "python",
   "nbconvert_exporter": "python",
   "pygments_lexer": "ipython3",
   "version": "3.9.12"
  }
 },
 "nbformat": 4,
 "nbformat_minor": 5
}
